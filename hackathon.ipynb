{
 "cells": [
  {
   "cell_type": "code",
   "execution_count": null,
   "metadata": {},
   "outputs": [],
   "source": [
    "import pandas as pd\n",
    "from sklearn.model_selection import train_test_split\n",
    "from torchvision import transforms\n",
    "from torch.utils.data import DataLoader, Dataset\n",
    "from PIL import Image\n",
    "from pathlib import Path\n",
    "import torch\n",
    "import torch.nn as nn\n",
    "from timm import create_model  # For EfficientNet-B5\n",
    "from torch.optim import AdamW\n",
    "from torch.optim.lr_scheduler import CosineAnnealingWarmRestarts\n",
    "from sklearn.metrics import f1_score, classification_report, confusion_matrix\n",
    "import matplotlib.pyplot as plt"
   ]
  },
  {
   "cell_type": "code",
   "execution_count": null,
   "metadata": {},
   "outputs": [],
   "source": [
    "# Step 1: Load Data\n",
    "csv_path = '/kaggle/input/hackathondatasetsecond/train_data.csv'\n",
    "image_folder = '/kaggle/input/hackathondatasetsecond/train/train'\n",
    "data = pd.read_csv(csv_path)"
   ]
  },
  {
   "cell_type": "code",
   "execution_count": null,
   "metadata": {},
   "outputs": [],
   "source": [
    "# Map city names to numeric labels\n",
    "label_mapping = {\"Istanbul\": 0, \"Ankara\": 1, \"Izmir\": 2}\n",
    "data['city_label'] = data['city'].map(label_mapping)"
   ]
  },
  {
   "cell_type": "code",
   "execution_count": null,
   "metadata": {},
   "outputs": [],
   "source": [
    "# Stratified Split into Train and Validation Sets\n",
    "train_data, val_data = train_test_split(\n",
    "    data, test_size=0.2, stratify=data['city_label'], random_state=42\n",
    ")\n"
   ]
  },
  {
   "cell_type": "code",
   "execution_count": null,
   "metadata": {},
   "outputs": [],
   "source": [
    "# Add file paths\n",
    "train_data['file_path'] = train_data['filename'].apply(lambda x: str(Path(image_folder) / x))\n",
    "val_data['file_path'] = val_data['filename'].apply(lambda x: str(Path(image_folder) / x))"
   ]
  },
  {
   "cell_type": "code",
   "execution_count": null,
   "metadata": {},
   "outputs": [],
   "source": [
    "# Step 2: Define Augmentations\n",
    "# Training Augmentations\n",
    "train_transforms = transforms.Compose([\n",
    "    transforms.Resize((380, 380)),  # Resize for EfficientNet-B5\n",
    "    # transforms.RandomHorizontalFlip(p=0.5),  # Random horizontal flip\n",
    "    # transforms.RandomRotation(degrees=10),  # Random rotations\n",
    "    # transforms.ColorJitter(brightness=0.2, contrast=0.2, saturation=0.2, hue=0.1),\n",
    "    transforms.ToTensor(),\n",
    "    transforms.Normalize(mean=[0.485, 0.456, 0.406], std=[0.229, 0.224, 0.225]),\n",
    "])\n",
    "\n",
    "# Validation and Test Augmentations\n",
    "val_transforms = transforms.Compose([\n",
    "    transforms.Resize((380, 380)),\n",
    "    transforms.ToTensor(),\n",
    "    transforms.Normalize(mean=[0.485, 0.456, 0.406], std=[0.229, 0.224, 0.225]),\n",
    "])"
   ]
  },
  {
   "cell_type": "code",
   "execution_count": null,
   "metadata": {},
   "outputs": [],
   "source": [
    "# Step 3: Custom Dataset Class\n",
    "class CityDataset(Dataset):\n",
    "    def __init__(self, dataframe, transform=None):\n",
    "        self.dataframe = dataframe\n",
    "        self.transform = transform\n",
    "\n",
    "    def __len__(self):\n",
    "        return len(self.dataframe)\n",
    "\n",
    "    def __getitem__(self, idx):\n",
    "        img_path = self.dataframe.iloc[idx]['file_path']\n",
    "        label = self.dataframe.iloc[idx]['city_label']\n",
    "        image = Image.open(img_path).convert('RGB')\n",
    "        if self.transform:\n",
    "            image = self.transform(image)\n",
    "        return image, label\n",
    "# Step 4: Create Datasets and DataLoaders\n",
    "train_dataset = CityDataset(train_data, transform=train_transforms)\n",
    "val_dataset = CityDataset(val_data, transform=val_transforms)\n",
    "\n",
    "train_loader = DataLoader(train_dataset, batch_size=16, shuffle=True, num_workers=0)\n",
    "val_loader = DataLoader(val_dataset, batch_size=16, shuffle=False, num_workers=0)"
   ]
  },
  {
   "cell_type": "code",
   "execution_count": null,
   "metadata": {},
   "outputs": [],
   "source": [
    "# Step 5: Define the Model\n",
    "class CityClassifier(nn.Module):\n",
    "    def __init__(self):\n",
    "        super(CityClassifier, self).__init__()\n",
    "        self.base_model = create_model('efficientnet_b4', pretrained=True)\n",
    "        num_features = self.base_model.classifier.in_features\n",
    "        self.base_model.classifier = nn.Sequential(\n",
    "            nn.Dropout(0.5),  # Dropout for regularization\n",
    "            nn.Linear(num_features, 3)  # Output layer for 3 classes\n",
    "        )\n",
    "\n",
    "    def forward(self, x):\n",
    "        return self.base_model(x)\n"
   ]
  },
  {
   "cell_type": "code",
   "execution_count": null,
   "metadata": {},
   "outputs": [],
   "source": [
    "# Initialize model\n",
    "device = torch.device('cuda' if torch.cuda.is_available() else 'cpu')\n",
    "model = CityClassifier().to(device)\n"
   ]
  },
  {
   "cell_type": "code",
   "execution_count": null,
   "metadata": {},
   "outputs": [],
   "source": [
    "# Step 6: Define Loss Function, Optimizer, and Scheduler\n",
    "criterion = nn.CrossEntropyLoss()\n",
    "optimizer = AdamW(model.parameters(), lr=1e-3, weight_decay=1e-4)\n",
    "scheduler = CosineAnnealingWarmRestarts(optimizer, T_0=5, T_mult=2)\n",
    "\n",
    "def train_one_epoch(model, data_loader, optimizer, criterion, device):\n",
    "    model.train()\n",
    "    running_loss, true_labels, pred_labels = 0.0, [], []\n",
    "    for images, labels in data_loader:\n",
    "        images, labels = images.to(device), labels.to(device)\n",
    "        optimizer.zero_grad()\n",
    "        outputs = model(images)\n",
    "        loss = criterion(outputs, labels)\n",
    "        loss.backward()\n",
    "        optimizer.step()\n",
    "        running_loss += loss.item()\n",
    "        preds = torch.argmax(outputs, dim=1)\n",
    "        true_labels.extend(labels.cpu().numpy())\n",
    "        pred_labels.extend(preds.cpu().numpy())\n",
    "    return running_loss / len(data_loader), f1_score(true_labels, pred_labels, average='macro')\n",
    "\n",
    "def validate_one_epoch(model, data_loader, criterion, device):\n",
    "    model.eval()\n",
    "    running_loss, true_labels, pred_labels = 0.0, [], []\n",
    "    with torch.no_grad():\n",
    "        for images, labels in data_loader:\n",
    "            images, labels = images.to(device), labels.to(device)\n",
    "            outputs = model(images)\n",
    "            loss = criterion(outputs, labels)\n",
    "            running_loss += loss.item()\n",
    "            preds = torch.argmax(outputs, dim=1)\n",
    "            true_labels.extend(labels.cpu().numpy())\n",
    "            pred_labels.extend(preds.cpu().numpy())\n",
    "    return running_loss / len(data_loader), f1_score(true_labels, pred_labels, average='macro')\n",
    "\n",
    "# Step 8: Training Loop\n",
    "def train_model(model, train_loader, val_loader, criterion, optimizer, scheduler, device, epochs=10):\n",
    "    train_losses, val_losses, train_f1s, val_f1s = [], [], [], []\n",
    "    for epoch in range(epochs):\n",
    "        print(f\"Epoch {epoch+1}/{epochs}\")\n",
    "        train_loss, train_f1 = train_one_epoch(model, train_loader, optimizer, criterion, device)\n",
    "        val_loss, val_f1 = validate_one_epoch(model, val_loader, criterion, device)\n",
    "        train_losses.append(train_loss)\n",
    "        val_losses.append(val_loss)\n",
    "        train_f1s.append(train_f1)\n",
    "        val_f1s.append(val_f1)\n",
    "        scheduler.step()\n",
    "        print(f\"Train Loss: {train_loss:.4f}, Train F1: {train_f1:.4f}\")\n",
    "        print(f\"Val Loss: {val_loss:.4f}, Val F1: {val_f1:.4f}\")\n",
    "    return train_losses, val_losses, train_f1s, val_f1s"
   ]
  },
  {
   "cell_type": "code",
   "execution_count": null,
   "metadata": {},
   "outputs": [],
   "source": [
    "# Train the Model\n",
    "train_losses, val_losses, train_f1s, val_f1s = train_model(\n",
    "    model, train_loader, val_loader, criterion, optimizer, scheduler, device, epochs=10\n",
    ")"
   ]
  },
  {
   "cell_type": "code",
   "execution_count": null,
   "metadata": {},
   "outputs": [],
   "source": [
    "# Step 9: Test Inference and Submission\n",
    "test_csv_path = '/kaggle/input/hackathondatasetsecond/test.csv'\n",
    "test_image_folder = '/kaggle/input/hackathondatasetsecond/test/test'\n",
    "\n",
    "test_data = pd.read_csv(test_csv_path)\n",
    "test_data['file_path'] = test_data['filename'].apply(lambda x: str(Path(test_image_folder) / x))\n",
    "\n",
    "test_transforms = transforms.Compose([\n",
    "    transforms.Resize((380, 380)),\n",
    "    transforms.ToTensor(),\n",
    "    transforms.Normalize(mean=[0.485, 0.456, 0.406], std=[0.229, 0.224, 0.225]),\n",
    "])\n",
    "\n",
    "class TestDataset(Dataset):\n",
    "    def __init__(self, dataframe, transform=None):\n",
    "        self.dataframe = dataframe\n",
    "        self.transform = transform\n",
    "\n",
    "    def __len__(self):\n",
    "        return len(self.dataframe)\n",
    "\n",
    "    def __getitem__(self, idx):\n",
    "        img_path = self.dataframe.iloc[idx]['file_path']\n",
    "        image = Image.open(img_path).convert('RGB')\n",
    "        if self.transform:\n",
    "            image = self.transform(image)\n",
    "        return image, self.dataframe.iloc[idx]['filename']\n",
    "\n",
    "test_dataset = TestDataset(test_data, transform=test_transforms)\n",
    "test_loader = DataLoader(test_dataset, batch_size=16, shuffle=False, num_workers=2)\n",
    "\n",
    "model.eval()\n",
    "predictions = []\n",
    "with torch.no_grad():\n",
    "    for images, filenames in test_loader:\n",
    "        images = images.to(device)\n",
    "        outputs = model(images)\n",
    "        preds = torch.argmax(outputs, dim=1).cpu().numpy()\n",
    "        predictions.extend(zip(filenames, preds))\n",
    "\n",
    "submission = pd.DataFrame(predictions, columns=['filename', 'city'])\n",
    "submission['city'] = submission['city'].map({0: \"Istanbul\", 1: \"Ankara\", 2: \"Izmir\"})\n",
    "submission.to_csv('submission.csv', index=False)\n",
    "print(\"Submission file created!\")"
   ]
  },
  {
   "cell_type": "code",
   "execution_count": null,
   "metadata": {},
   "outputs": [],
   "source": []
  },
  {
   "cell_type": "code",
   "execution_count": null,
   "metadata": {},
   "outputs": [],
   "source": []
  }
 ],
 "metadata": {
  "kernelspec": {
   "display_name": "fastai",
   "language": "python",
   "name": "python3"
  },
  "language_info": {
   "codemirror_mode": {
    "name": "ipython",
    "version": 3
   },
   "file_extension": ".py",
   "mimetype": "text/x-python",
   "name": "python",
   "nbconvert_exporter": "python",
   "pygments_lexer": "ipython3",
   "version": "3.10.14"
  }
 },
 "nbformat": 4,
 "nbformat_minor": 2
}
